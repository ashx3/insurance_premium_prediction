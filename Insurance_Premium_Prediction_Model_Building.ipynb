{
 "cells": [
  {
   "cell_type": "markdown",
   "metadata": {},
   "source": [
    "## Model Building"
   ]
  },
  {
   "cell_type": "code",
   "execution_count": 1,
   "metadata": {},
   "outputs": [],
   "source": [
    "import pandas as pd\n",
    "\n",
    "from sklearn.preprocessing import StandardScaler, OneHotEncoder\n",
    "from sklearn.pipeline import Pipeline\n",
    "from sklearn.compose import ColumnTransformer\n",
    "from sklearn.model_selection import train_test_split\n",
    "from sklearn.metrics import r2_score, mean_squared_error\n",
    "\n",
    "from sklearn.linear_model import LinearRegression\n",
    "from sklearn.tree import DecisionTreeRegressor\n",
    "from sklearn.neighbors import KNeighborsRegressor\n",
    "from sklearn.ensemble import RandomForestRegressor\n",
    "from sklearn.ensemble import GradientBoostingRegressor"
   ]
  },
  {
   "cell_type": "code",
   "execution_count": 2,
   "metadata": {},
   "outputs": [
    {
     "data": {
      "text/html": [
       "<div>\n",
       "<style scoped>\n",
       "    .dataframe tbody tr th:only-of-type {\n",
       "        vertical-align: middle;\n",
       "    }\n",
       "\n",
       "    .dataframe tbody tr th {\n",
       "        vertical-align: top;\n",
       "    }\n",
       "\n",
       "    .dataframe thead th {\n",
       "        text-align: right;\n",
       "    }\n",
       "</style>\n",
       "<table border=\"1\" class=\"dataframe\">\n",
       "  <thead>\n",
       "    <tr style=\"text-align: right;\">\n",
       "      <th></th>\n",
       "      <th>age</th>\n",
       "      <th>sex</th>\n",
       "      <th>bmi</th>\n",
       "      <th>children</th>\n",
       "      <th>smoker</th>\n",
       "      <th>region</th>\n",
       "      <th>expenses</th>\n",
       "    </tr>\n",
       "  </thead>\n",
       "  <tbody>\n",
       "    <tr>\n",
       "      <th>0</th>\n",
       "      <td>19</td>\n",
       "      <td>female</td>\n",
       "      <td>27.9</td>\n",
       "      <td>0</td>\n",
       "      <td>yes</td>\n",
       "      <td>southwest</td>\n",
       "      <td>16884.92</td>\n",
       "    </tr>\n",
       "    <tr>\n",
       "      <th>1</th>\n",
       "      <td>18</td>\n",
       "      <td>male</td>\n",
       "      <td>33.8</td>\n",
       "      <td>1</td>\n",
       "      <td>no</td>\n",
       "      <td>southeast</td>\n",
       "      <td>1725.55</td>\n",
       "    </tr>\n",
       "    <tr>\n",
       "      <th>2</th>\n",
       "      <td>28</td>\n",
       "      <td>male</td>\n",
       "      <td>33.0</td>\n",
       "      <td>3</td>\n",
       "      <td>no</td>\n",
       "      <td>southeast</td>\n",
       "      <td>4449.46</td>\n",
       "    </tr>\n",
       "    <tr>\n",
       "      <th>3</th>\n",
       "      <td>33</td>\n",
       "      <td>male</td>\n",
       "      <td>22.7</td>\n",
       "      <td>0</td>\n",
       "      <td>no</td>\n",
       "      <td>northwest</td>\n",
       "      <td>21984.47</td>\n",
       "    </tr>\n",
       "    <tr>\n",
       "      <th>4</th>\n",
       "      <td>32</td>\n",
       "      <td>male</td>\n",
       "      <td>28.9</td>\n",
       "      <td>0</td>\n",
       "      <td>no</td>\n",
       "      <td>northwest</td>\n",
       "      <td>3866.86</td>\n",
       "    </tr>\n",
       "  </tbody>\n",
       "</table>\n",
       "</div>"
      ],
      "text/plain": [
       "   age     sex   bmi  children smoker     region  expenses\n",
       "0   19  female  27.9         0    yes  southwest  16884.92\n",
       "1   18    male  33.8         1     no  southeast   1725.55\n",
       "2   28    male  33.0         3     no  southeast   4449.46\n",
       "3   33    male  22.7         0     no  northwest  21984.47\n",
       "4   32    male  28.9         0     no  northwest   3866.86"
      ]
     },
     "execution_count": 2,
     "metadata": {},
     "output_type": "execute_result"
    }
   ],
   "source": [
    "data = pd.read_csv('\\insurance.csv')\n",
    "data.head()"
   ]
  },
  {
   "cell_type": "code",
   "execution_count": 3,
   "metadata": {},
   "outputs": [],
   "source": [
    "def preprocess_inputs(df):\n",
    "    df = df.copy()\n",
    "\n",
    "    # Splitting the dataset into X and y\n",
    "    X = df.drop('expenses', axis=1)\n",
    "    y = df['expenses']\n",
    "\n",
    "    # train test split\n",
    "    x_train, x_test, y_train, y_test = train_test_split(X, y, test_size  =0.2, random_state = 100)\n",
    "\n",
    "    # categorical columns\n",
    "    cat_cols = ['sex', 'smoker','region']\n",
    "\n",
    "    # numerical columns\n",
    "    num_cols = ['age', 'bmi', 'children']\n",
    "\n",
    "    # using column transformer for num and cat cols\n",
    "    num_transformer = StandardScaler()\n",
    "    cat_transformer = OneHotEncoder(handle_unknown='ignore')\n",
    "\n",
    "    preprocessor = ColumnTransformer(\n",
    "    transformers=[\n",
    "        ('num', num_transformer, num_cols),\n",
    "        ('cat', cat_transformer, cat_cols)])\n",
    "\n",
    "    return x_train, x_test, y_train, y_test, preprocessor"
   ]
  },
  {
   "cell_type": "code",
   "execution_count": 4,
   "metadata": {},
   "outputs": [],
   "source": [
    "x_train, x_test, y_train, y_test, preprocessor = preprocess_inputs(data)"
   ]
  },
  {
   "cell_type": "markdown",
   "metadata": {},
   "source": [
    "# Creating Pipelines for Models"
   ]
  },
  {
   "cell_type": "code",
   "execution_count": 5,
   "metadata": {},
   "outputs": [],
   "source": [
    "pipeline_lr = Pipeline([('preprocessor', preprocessor), ('linear_regressor', LinearRegression())])\n",
    "pipeline_dt = Pipeline([('preprocessor', preprocessor), ('decision_tree_regressor', DecisionTreeRegressor())])\n",
    "pipeline_knn = Pipeline([('preprocessor', preprocessor), ('knn', KNeighborsRegressor(n_neighbors = 7))])\n",
    "pipeline_rf = Pipeline([('preprocessor', preprocessor), ('random_forest', RandomForestRegressor())])\n",
    "pipeline_gb = Pipeline([('preprocessor', preprocessor), ('gradient_boosting', GradientBoostingRegressor())])"
   ]
  },
  {
   "cell_type": "code",
   "execution_count": 6,
   "metadata": {},
   "outputs": [],
   "source": [
    "pipelines = [pipeline_dt, pipeline_gb, pipeline_knn, pipeline_lr, pipeline_rf]\n",
    "pipe_dict = {0: 'Linear Regression', 1: 'Decision Tree', 2: 'KNN', 3: 'Random forest', 4: 'Gradient boosting'}"
   ]
  },
  {
   "cell_type": "code",
   "execution_count": 7,
   "metadata": {},
   "outputs": [],
   "source": [
    "for pipe in pipelines:\n",
    "    pipe.fit(x_train,y_train)"
   ]
  },
  {
   "cell_type": "markdown",
   "metadata": {},
   "source": [
    "# Checking Model Performance using evaluation metrics"
   ]
  },
  {
   "cell_type": "markdown",
   "metadata": {},
   "source": [
    "**1. Linear Regression** "
   ]
  },
  {
   "cell_type": "code",
   "execution_count": 8,
   "metadata": {},
   "outputs": [
    {
     "name": "stdout",
     "output_type": "stream",
     "text": [
      "The Mean Squared Error using Linear Regression : 32156084.838352986\n",
      "The Root Mean Squared Error using Linear Regression : 5670.633548233653\n",
      "The r2_score using Linear Regression : 0.794933500510842\n"
     ]
    }
   ],
   "source": [
    "pred_lr = pipeline_lr.predict(x_test)\n",
    "linear_reg_mse = mean_squared_error(y_test, pred_lr)\n",
    "linear_reg_rmse = mean_squared_error(y_test, pred_lr, squared = False)\n",
    "linear_reg_r2_score = r2_score(y_test, pred_lr)\n",
    "\n",
    "# Evaluation Metrics\n",
    "print(\"The Mean Squared Error using Linear Regression : {}\".format(linear_reg_mse))\n",
    "print(('The Root Mean Squared Error using Linear Regression : {}'.format(linear_reg_rmse)))\n",
    "print(('The r2_score using Linear Regression : {}'.format(linear_reg_r2_score)))"
   ]
  },
  {
   "cell_type": "markdown",
   "metadata": {},
   "source": [
    "**2. Decision Tree**"
   ]
  },
  {
   "cell_type": "code",
   "execution_count": 9,
   "metadata": {},
   "outputs": [
    {
     "name": "stdout",
     "output_type": "stream",
     "text": [
      "The Mean Squared Error using Decision Tree Regressor : 43710038.82394553\n",
      "The Root Mean Squared Error using Decision Tree Regressor : 6611.356806582558\n",
      "The r2_score using Decision Tree Regressor : 0.7212513681556513\n"
     ]
    }
   ],
   "source": [
    "pred_dt = pipeline_dt.predict(x_test)\n",
    "decision_tree_mse = mean_squared_error(y_test, pred_dt)\n",
    "decision_tree_rmse = mean_squared_error(y_test, pred_dt, squared = False)\n",
    "decision_tree_r2_score = r2_score(y_test, pred_dt)\n",
    "\n",
    "print(\"The Mean Squared Error using Decision Tree Regressor : {}\".format(decision_tree_mse))\n",
    "print(\"The Root Mean Squared Error using Decision Tree Regressor : {}\".format(decision_tree_rmse))\n",
    "print(\"The r2_score using Decision Tree Regressor : {}\".format(decision_tree_r2_score))"
   ]
  },
  {
   "cell_type": "markdown",
   "metadata": {},
   "source": [
    "**3. KNN**"
   ]
  },
  {
   "cell_type": "code",
   "execution_count": 10,
   "metadata": {},
   "outputs": [
    {
     "name": "stdout",
     "output_type": "stream",
     "text": [
      "The mean squared error using KNN is 34683548.07230548\n",
      "The root mean squared error using KNN is 5889.2739851619635\n",
      "The r2_score using KNN is 0.7788153057561124\n"
     ]
    }
   ],
   "source": [
    "pred_knn = pipeline_knn.predict(x_test)\n",
    "knn_mse = mean_squared_error(y_test, pred_knn)\n",
    "knn_rmse = mean_squared_error(y_test, pred_knn, squared = False)\n",
    "knn_r2_score = r2_score(y_test, pred_knn)\n",
    "\n",
    "print(\"The mean squared error using KNN is {}\".format(knn_mse))\n",
    "print(\"The root mean squared error using KNN is {}\".format(knn_rmse))\n",
    "print(\"The r2_score using KNN is {}\".format(knn_r2_score))"
   ]
  },
  {
   "cell_type": "markdown",
   "metadata": {},
   "source": [
    "**4. Random Forest**"
   ]
  },
  {
   "cell_type": "code",
   "execution_count": 11,
   "metadata": {},
   "outputs": [
    {
     "name": "stdout",
     "output_type": "stream",
     "text": [
      "The Mean Squared Error using Random Forest Regressor : 19686049.44276266\n",
      "The Root Mean Squared Error using Random Forest Regressor : 4436.896375030936\n",
      "The r2_score Error using Random Forest Regressor : 0.8744576876105605\n"
     ]
    }
   ],
   "source": [
    "pred_rf = pipeline_rf.predict(x_test)\n",
    "random_forest_mse = mean_squared_error(y_test, pred_rf)\n",
    "random_forest_rmse = mean_squared_error(y_test, pred_rf, squared = False)\n",
    "random_forest_r2_score = r2_score(y_test, pred_rf)\n",
    "\n",
    "print(\"The Mean Squared Error using Random Forest Regressor : {}\".format(random_forest_mse))\n",
    "print(\"The Root Mean Squared Error using Random Forest Regressor : {}\".format(random_forest_rmse))\n",
    "print(\"The r2_score Error using Random Forest Regressor : {}\".format(random_forest_r2_score))"
   ]
  },
  {
   "cell_type": "markdown",
   "metadata": {},
   "source": [
    "**5. Gradient Boosting**"
   ]
  },
  {
   "cell_type": "code",
   "execution_count": 12,
   "metadata": {},
   "outputs": [
    {
     "name": "stdout",
     "output_type": "stream",
     "text": [
      "The Mean Squared Error using Gradient Boosting Regressor : 15647810.508128764\n",
      "The Root Mean Squared Error using Gradient Boosting Regressor : 3955.731349337157\n",
      "The r2_sccore using Gradient Boosting Regressor : 0.9002104347683397\n"
     ]
    }
   ],
   "source": [
    "pred_gb = pipeline_gb.predict(x_test)\n",
    "gradient_boosting_mse = mean_squared_error(y_test, pred_gb)\n",
    "gradient_boosting_rmse = mean_squared_error(y_test, pred_gb, squared = False)\n",
    "gradient_boosting_r2_score = r2_score(y_test, pred_gb)\n",
    "\n",
    "print(\"The Mean Squared Error using Gradient Boosting Regressor : {}\".format(gradient_boosting_mse))\n",
    "print(\"The Root Mean Squared Error using Gradient Boosting Regressor : {}\".format(gradient_boosting_rmse))\n",
    "print(\"The r2_sccore using Gradient Boosting Regressor : {}\".format(gradient_boosting_r2_score))"
   ]
  },
  {
   "cell_type": "code",
   "execution_count": 13,
   "metadata": {},
   "outputs": [
    {
     "data": {
      "text/html": [
       "<div>\n",
       "<style scoped>\n",
       "    .dataframe tbody tr th:only-of-type {\n",
       "        vertical-align: middle;\n",
       "    }\n",
       "\n",
       "    .dataframe tbody tr th {\n",
       "        vertical-align: top;\n",
       "    }\n",
       "\n",
       "    .dataframe thead th {\n",
       "        text-align: right;\n",
       "    }\n",
       "</style>\n",
       "<table border=\"1\" class=\"dataframe\">\n",
       "  <thead>\n",
       "    <tr style=\"text-align: right;\">\n",
       "      <th></th>\n",
       "      <th>Model</th>\n",
       "      <th>RMSE</th>\n",
       "      <th>r2_score</th>\n",
       "    </tr>\n",
       "  </thead>\n",
       "  <tbody>\n",
       "    <tr>\n",
       "      <th>0</th>\n",
       "      <td>Gradient Boosting</td>\n",
       "      <td>3955.731349</td>\n",
       "      <td>0.900210</td>\n",
       "    </tr>\n",
       "    <tr>\n",
       "      <th>1</th>\n",
       "      <td>Random Forest</td>\n",
       "      <td>4436.896375</td>\n",
       "      <td>0.874458</td>\n",
       "    </tr>\n",
       "    <tr>\n",
       "      <th>2</th>\n",
       "      <td>Linear Regression</td>\n",
       "      <td>5670.633548</td>\n",
       "      <td>0.794934</td>\n",
       "    </tr>\n",
       "    <tr>\n",
       "      <th>3</th>\n",
       "      <td>KNN</td>\n",
       "      <td>5889.273985</td>\n",
       "      <td>0.778815</td>\n",
       "    </tr>\n",
       "    <tr>\n",
       "      <th>4</th>\n",
       "      <td>Decision Tree</td>\n",
       "      <td>6611.356807</td>\n",
       "      <td>0.721251</td>\n",
       "    </tr>\n",
       "  </tbody>\n",
       "</table>\n",
       "</div>"
      ],
      "text/plain": [
       "               Model         RMSE  r2_score\n",
       "0  Gradient Boosting  3955.731349  0.900210\n",
       "1      Random Forest  4436.896375  0.874458\n",
       "2  Linear Regression  5670.633548  0.794934\n",
       "3                KNN  5889.273985  0.778815\n",
       "4      Decision Tree  6611.356807  0.721251"
      ]
     },
     "execution_count": 13,
     "metadata": {},
     "output_type": "execute_result"
    }
   ],
   "source": [
    "models = pd.DataFrame({\n",
    "    'Model' : ['Linear Regression', 'Decision Tree', 'Random Forest',\n",
    "               'Gradient Boosting', 'KNN'],\n",
    "    'RMSE' : [linear_reg_rmse, decision_tree_rmse, random_forest_rmse,\n",
    "            gradient_boosting_rmse, knn_rmse],\n",
    "    'r2_score' : [linear_reg_r2_score, decision_tree_r2_score, random_forest_r2_score, \n",
    "    gradient_boosting_r2_score, knn_r2_score]\n",
    "})\n",
    "\n",
    "models.sort_values(by='RMSE', ascending=True, ignore_index=True)"
   ]
  },
  {
   "cell_type": "markdown",
   "metadata": {},
   "source": [
    "As we can see through the evaluation metrics, RMSE and r2_score both is quite good for Gradient Boosting and Random Forest algorithms.<br>\n",
    "Among all the regressors, Decision Tree performs the worst, it maybe because tree based algorithms generally lack to perform with continuous numerical variables and is inadequate for applying regression and predicting continuous values.<br>\n",
    "The RMSE and r2 score of Gradient boosting is quite imminent that it is the best performing regressor, we shall use Gradient boosting as our final algorithm."
   ]
  },
  {
   "cell_type": "markdown",
   "metadata": {},
   "source": [
    "## Pickle the model"
   ]
  },
  {
   "cell_type": "code",
   "execution_count": 14,
   "metadata": {},
   "outputs": [],
   "source": [
    "import pickle\n",
    "with open('model.pkl', 'wb') as f:\n",
    "    pickle.dump(pipeline_gb, f)"
   ]
  },
  {
   "cell_type": "code",
   "execution_count": 15,
   "metadata": {},
   "outputs": [],
   "source": [
    "with open('model.pkl', 'rb') as f:\n",
    "    m = pickle.load(f)"
   ]
  }
 ],
 "metadata": {
  "kernelspec": {
   "display_name": "Python 3.9.6 ('ins': venv)",
   "language": "python",
   "name": "python3"
  },
  "language_info": {
   "codemirror_mode": {
    "name": "ipython",
    "version": 3
   },
   "file_extension": ".py",
   "mimetype": "text/x-python",
   "name": "python",
   "nbconvert_exporter": "python",
   "pygments_lexer": "ipython3",
   "version": "3.9.6"
  },
  "vscode": {
   "interpreter": {
    "hash": "5922a50aceed5cec2a41ba2264a663d3aa919fe2f2cce361dd53b6c11120f617"
   }
  }
 },
 "nbformat": 4,
 "nbformat_minor": 4
}
